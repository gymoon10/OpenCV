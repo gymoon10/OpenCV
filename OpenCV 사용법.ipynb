{
 "cells": [
  {
   "cell_type": "code",
   "execution_count": 2,
   "metadata": {},
   "outputs": [
    {
     "name": "stdout",
     "output_type": "stream",
     "text": [
      "type(img1): <class 'numpy.ndarray'>\n",
      "img1.shape: (480, 640)\n",
      "img2.shape: (480, 640, 3)\n",
      "img1.dtype: uint8\n",
      "img2 size: 640 x 480\n",
      "img1 is a grayscale image\n"
     ]
    }
   ],
   "source": [
    "import sys\n",
    "import cv2\n",
    "\n",
    "path = 'C:/Users/ky_moon/Desktop/vision/ch02/'\n",
    "# 영상 불러오기\n",
    "img1 = cv2.imread(path + 'cat.bmp', cv2.IMREAD_GRAYSCALE)\n",
    "img2 = cv2.imread(path + 'cat.bmp', cv2.IMREAD_COLOR)\n",
    "\n",
    "if img1 is None or img2 is None:\n",
    "    print('Image load failed!')\n",
    "    sys.exit()\n",
    "\n",
    "# 영상의 속성 참조\n",
    "print('type(img1):', type(img1))\n",
    "print('img1.shape:', img1.shape)\n",
    "print('img2.shape:', img2.shape)\n",
    "print('img1.dtype:', img1.dtype)\n",
    "\n",
    "# 영상의 크기 참조\n",
    "h, w = img2.shape[:2] # x축 : w(열) / y축 : h(행)\n",
    "print('img2 size: {} x {}'.format(w, h))\n",
    "\n",
    "if len(img1.shape) == 2:\n",
    "    print('img1 is a grayscale image')\n",
    "elif len(img1.shape) == 3:\n",
    "    print('img1 is a truecolor image')\n",
    "\n",
    "img1[:, :] = 0\n",
    "img2[:, :] = (0, 255, 255)\n",
    "        \n",
    "cv2.imshow('img1', img1)\n",
    "cv2.imshow('img2', img2)\n",
    "cv2.waitKey()\n",
    "cv2.destroyAllWindows()"
   ]
  },
  {
   "cell_type": "code",
   "execution_count": 4,
   "metadata": {},
   "outputs": [
    {
     "name": "stdout",
     "output_type": "stream",
     "text": [
      "img1.shape: (240, 320)\n",
      "img2.shape: (240, 320, 3)\n",
      "img3.shape: (240, 320, 3)\n",
      "img4.shape: (240, 320, 3)\n"
     ]
    }
   ],
   "source": [
    "import numpy as np\n",
    "\n",
    "img1 = np.empty((240, 320), dtype=np.uint8)       # grayscale image\n",
    "img2 = np.zeros((240, 320, 3), dtype=np.uint8)    # color image\n",
    "img3 = np.ones((240, 320, 3), dtype=np.uint8) * 255  # dark gray\n",
    "img4 = np.full((240, 320, 3), (0, 255, 255), dtype=np.uint8)  # yellow\n",
    "\n",
    "print('img1.shape:', img1.shape)\n",
    "print('img2.shape:', img2.shape)\n",
    "print('img3.shape:', img3.shape)\n",
    "print('img4.shape:', img4.shape)\n",
    "\n",
    "cv2.imshow('img1', img1)\n",
    "cv2.imshow('img2', img2)\n",
    "cv2.imshow('img3', img3)\n",
    "cv2.imshow('img4', img4)\n",
    "cv2.waitKey()\n",
    "cv2.destroyAllWindows()"
   ]
  },
  {
   "cell_type": "code",
   "execution_count": 5,
   "metadata": {},
   "outputs": [],
   "source": [
    "img1 = cv2.imread(path + 'HappyFish.jpg')\n",
    "\n",
    "img2 = img1 # img2는 img1과 같은 영상 공유\n",
    "img3 = img1.copy() # 완전한 복사본, 메모리를 새롭게 할당\n",
    "\n",
    "img1.fill(255)\n",
    "\n",
    "cv2.imshow('img1', img1)\n",
    "cv2.imshow('img2', img2) # img2는 img1과 마찬가지로 노란색으로 채워짐\n",
    "cv2.imshow('img3', img3) # img3는 영향 x\n",
    "cv2.waitKey()\n",
    "cv2.destroyAllWindows()"
   ]
  },
  {
   "cell_type": "code",
   "execution_count": 6,
   "metadata": {},
   "outputs": [],
   "source": [
    "img1 = cv2.imread(path + 'HappyFish.jpg')\n",
    "\n",
    "img2 = img1[40:120, 30:150]  # numpy.ndarray의 슬라이싱\n",
    "img3 = img1[40:120, 30:150].copy()\n",
    "\n",
    "cv2.circle(img2, (50, 50), 20, (0, 0, 250), 2) # img1에도 원을 그림\n",
    "\n",
    "cv2.imshow('img1', img1)\n",
    "cv2.imshow('img2', img2)\n",
    "cv2.imshow('img3', img3)\n",
    "cv2.waitKey()\n",
    "cv2.destroyAllWindows()"
   ]
  },
  {
   "cell_type": "code",
   "execution_count": 7,
   "metadata": {},
   "outputs": [],
   "source": [
    "src = cv2.imread(path + 'airplane.bmp', cv2.IMREAD_COLOR)\n",
    "mask = cv2.imread(path + 'mask_plane.bmp', cv2.IMREAD_GRAYSCALE) # mask는 gray scale\n",
    "dst = cv2.imread(path + 'field.bmp', cv2.IMREAD_COLOR) # dst, src는 같은 shape여야 함\n",
    "\n",
    "if src is None or mask is None or dst is None:\n",
    "    print('Image load failed!')\n",
    "    sys.exit()\n",
    "\n",
    "cv2.copyTo(src, mask, dst) # dst : 입력이자 출력\n",
    "\n",
    "# dst[mask > 0] = src[mask > 0] : boolean indexing, src에서 True인 부분만 가져옴 -> dst 영상의 픽셀값 자체가 변경됨\n",
    "\n",
    "cv2.imshow('src', src)\n",
    "cv2.imshow('dst', dst)\n",
    "cv2.imshow('mask', mask)\n",
    "cv2.waitKey()\n",
    "cv2.destroyAllWindows()"
   ]
  },
  {
   "cell_type": "code",
   "execution_count": 10,
   "metadata": {},
   "outputs": [],
   "source": [
    "src = cv2.imread(path + 'airplane.bmp', cv2.IMREAD_COLOR)\n",
    "mask = cv2.imread(path + 'mask_plane.bmp', cv2.IMREAD_GRAYSCALE)  # mask는 gray scale\n",
    "dst = cv2.imread(path + 'field.bmp', cv2.IMREAD_COLOR)  # dst, src는 같은 shape여야 함\n",
    "\n",
    "if src is None or mask is None or dst is None:\n",
    "    print('Image load failed!')\n",
    "    sys.exit()\n",
    "\n",
    "dst[mask > 0] = src[mask > 0]  # src에서 비행기 위치에 해당하는 픽셀값을, dst의 해당 위치에 할당\n",
    "\n",
    "cv2.imshow('src', src)\n",
    "cv2.imshow('dst', dst)\n",
    "cv2.imshow('mask', mask)\n",
    "cv2.waitKey()\n",
    "cv2.destroyAllWindows()"
   ]
  },
  {
   "cell_type": "code",
   "execution_count": null,
   "metadata": {},
   "outputs": [],
   "source": [
    "src = cv2.imread(path + 'opencv-logo-white.png', cv2.IMREAD_UNCHANGED)\n",
    "mask = src[:, :, -1]  # alpha 채널\n",
    "src = src[:, :, 0:3]  # BGR채널\n",
    "dst = cv2.imread(path + 'field.bmp', cv2.IMREAD_COLOR)\n",
    "\n",
    "h, w = src.shape[:2]  # src[0] : 행 h(y) / src[1] : 열 w(x)\n",
    "crop = dst[0:h, 0:w] \n",
    "# src와 dst의 사이즈가 다르기 때문에 crop 필요\n",
    "# crop영상의 픽셀값이 변경됨에 따라 crop부분에 해당하는 dst영상의 픽셀값도 변경됨\n",
    "\n",
    "if src is None or mask is None or dst is None:\n",
    "    print('Image load failed!')\n",
    "    sys.exit()\n",
    "\n",
    "cv2.copyTo(src, mask, crop) # crop : 입력이자 출력, dst에서 좌측 상단의 픽셀값만 변경됨\n",
    "\n",
    "# dst[mask > 0] = src[mask > 0] : boolean indexing, src에서 True인 부분만 가져옴 -> dst 영상의 픽셀값 자체가 변경됨\n",
    "\n",
    "cv2.imshow('src', src)\n",
    "cv2.imshow('dst', dst)\n",
    "cv2.imshow('mask', mask)\n",
    "cv2.waitKey()\n",
    "cv2.destroyAllWindows()"
   ]
  },
  {
   "cell_type": "code",
   "execution_count": 11,
   "metadata": {},
   "outputs": [],
   "source": [
    "# 알파 채널을 마스크 영상으로 이용\n",
    "src = cv2.imread(path + 'cat.bmp', cv2.IMREAD_COLOR)\n",
    "logo = cv2.imread(path + 'opencv-logo-white.png', cv2.IMREAD_UNCHANGED)\n",
    "\n",
    "if src is None or logo is None:\n",
    "    print('Image load failed!')\n",
    "    sys.exit()\n",
    "\n",
    "mask = logo[:, :, 3]    # mask는 알파 채널로 만든 마스크 영상\n",
    "logo = logo[:, :, :-1]  # logo는 b, g, r 3채널로 구성된 컬러 영상\n",
    "h, w = mask.shape[:2]\n",
    "\n",
    "crop = src[10:10+h, 10:10+w]  # logo, mask와 같은 크기의 부분 영상 추출\n",
    "\n",
    "cv2.copyTo(logo, mask, crop)\n",
    "#crop[mask > 0] = logo[mask > 0]\n",
    "\n",
    "cv2.imshow('src', src)\n",
    "cv2.imshow('logo', logo)\n",
    "cv2.imshow('mask', mask)\n",
    "cv2.waitKey()\n",
    "cv2.destroyAllWindows()"
   ]
  },
  {
   "cell_type": "markdown",
   "metadata": {},
   "source": [
    "#### 그리기 함수\n",
    "\n",
    "* 영상의 픽셀값 자체를 변경\n",
    "* 그레이 스케일 영상에는 컬러로 그리기 불가능"
   ]
  },
  {
   "cell_type": "code",
   "execution_count": 1,
   "metadata": {},
   "outputs": [
    {
     "name": "stderr",
     "output_type": "stream",
     "text": [
      "C:\\Users\\ky_moon\\Anaconda3\\envs\\tensorflow\\lib\\site-packages\\numpy\\_distributor_init.py:32: UserWarning: loaded more than 1 DLL from .libs:\n",
      "C:\\Users\\ky_moon\\Anaconda3\\envs\\tensorflow\\lib\\site-packages\\numpy\\.libs\\libopenblas.PYQHXLVVQ7VESDPUVUADXEVJOBGHJPAY.gfortran-win_amd64.dll\n",
      "C:\\Users\\ky_moon\\Anaconda3\\envs\\tensorflow\\lib\\site-packages\\numpy\\.libs\\libopenblas.TXA6YQSD3GCQQC22GEQ54J2UDCXDXHWN.gfortran-win_amd64.dll\n",
      "C:\\Users\\ky_moon\\Anaconda3\\envs\\tensorflow\\lib\\site-packages\\numpy\\.libs\\libopenblas.WCDJNK7YVMPZQ2ME2ZZHJJRJ3JIKNDB7.gfortran-win_amd64.dll\n",
      "  stacklevel=1)\n"
     ]
    }
   ],
   "source": [
    "import numpy as np\n",
    "import cv2\n",
    "\n",
    "img = np.full((400, 400, 3), 255, np.uint8)\n",
    "\n",
    "# 직선 그리기\n",
    "cv2.line(img, (50, 50), (200, 50), (0, 0, 255), 5)  # 직선의 시작점, 끝점, 색상, 선 두께\n",
    "cv2.line(img, (50, 60), (150, 160), (0, 0, 128))\n",
    "\n",
    "cv2.imshow(\"img\", img)\n",
    "cv2.waitKey()\n",
    "cv2.destroyAllWindows()"
   ]
  },
  {
   "cell_type": "code",
   "execution_count": 2,
   "metadata": {},
   "outputs": [],
   "source": [
    "img = np.full((400, 400, 3), 255, np.uint8)\n",
    "\n",
    "cv2.rectangle(img, (50, 200, 150, 100), (0, 255, 0), 2) # rec : 사각형 위치 정보(x,y,w,h) / (50, 200)좌표에서 가로로 150 세로로 100\n",
    "cv2.rectangle(img, (70, 220), (180, 280), (0, 128, 0), -1) # (70, 220)에서 (180, 280) / thickness=-1 => 내부를 채움\n",
    "\n",
    "cv2.imshow(\"img\", img)\n",
    "cv2.waitKey()\n",
    "cv2.destroyAllWindows()"
   ]
  },
  {
   "cell_type": "code",
   "execution_count": null,
   "metadata": {},
   "outputs": [],
   "source": [
    "img = np.full((400, 400, 3), 255, np.uint8)\n",
    "\n",
    "cv2.circle(img, (300, 100), 30, (255, 255, 0), -1, cv2.LINE_AA) # (300, 100)중심점, 반지름 30인 원 / thickness=-1 => 내부를 채움\n",
    "cv2.circle(img, (300, 100), 60, (255, 0, 0), 3, cv2.LINE_AA)\n",
    "\n",
    "cv2.imshow(\"img\", img)\n",
    "cv2.waitKey()\n",
    "cv2.destroyAllWindows()"
   ]
  },
  {
   "cell_type": "code",
   "execution_count": 3,
   "metadata": {},
   "outputs": [],
   "source": [
    "import numpy as np\n",
    "import cv2\n",
    "\n",
    "img = np.full((400, 400, 3), 255, np.uint8)\n",
    "\n",
    "cv2.line(img, (50, 50), (200, 50), (0, 0, 255), 5)\n",
    "cv2.line(img, (50, 60), (150, 160), (0, 0, 128))\n",
    "\n",
    "cv2.rectangle(img, (50, 200, 150, 100), (0, 255, 0), 2)\n",
    "cv2.rectangle(img, (70, 220), (180, 280), (0, 128, 0), -1)\n",
    "\n",
    "cv2.circle(img, (300, 100), 30, (255, 255, 0), -1, cv2.LINE_AA)\n",
    "cv2.circle(img, (300, 100), 60, (255, 0, 0), 3, cv2.LINE_AA)\n",
    "\n",
    "pts = np.array([[250, 200], [300, 200], [350, 300], [250, 300]])\n",
    "cv2.polylines(img, [pts], True, (255, 0, 255), 2)\n",
    "\n",
    "text = 'Hello? OpenCV ' + cv2.__version__\n",
    "cv2.putText(img, text, (50, 350), cv2.FONT_HERSHEY_SIMPLEX, 0.8, \n",
    "            (0, 0, 255), 1, cv2.LINE_AA)\n",
    "\n",
    "cv2.imshow(\"img\", img)\n",
    "cv2.waitKey()\n",
    "cv2.destroyAllWindows()"
   ]
  },
  {
   "cell_type": "markdown",
   "metadata": {},
   "source": [
    "#### 동영상 처리"
   ]
  },
  {
   "cell_type": "code",
   "execution_count": null,
   "metadata": {},
   "outputs": [],
   "source": [
    "import sys\n",
    "import cv2\n",
    "\n",
    "\n",
    "# 카메라 열기\n",
    "cap = cv2.VideoCapture(0)\n",
    "\n",
    "if not cap.isOpened():\n",
    "    print(\"Camera open failed!\")\n",
    "    sys.exit()\n",
    "\n",
    "# 카메라 프레임 크기 출력\n",
    "print('Frame width:', int(cap.get(cv2.CAP_PROP_FRAME_WIDTH)))\n",
    "print('Frame height:', int(cap.get(cv2.CAP_PROP_FRAME_HEIGHT)))\n",
    "\n",
    "# cap.set(cv2.CAP_PROP_FRAME_WIDTH, 320)\n",
    "# cap.set(cv2.CAP_PROP_FRAME_HEIGHT 240)  320x240 사이즈로 영상 출력\n",
    "\n",
    "# 카메라 프레임 처리\n",
    "while True:\n",
    "    ret, frame = cap.read()\n",
    "\n",
    "    if not ret:\n",
    "        break\n",
    "    \n",
    "    inversed = ~frame  # 반전\n",
    "\n",
    "    cv2.imshow('frame', frame)\n",
    "    cv2.imshow('inversed', inversed)\n",
    "\n",
    "    if cv2.waitKey(10) == 27:\n",
    "        break\n",
    "\n",
    "cap.release()\n",
    "cv2.destroyAllWindows()"
   ]
  },
  {
   "cell_type": "code",
   "execution_count": 4,
   "metadata": {},
   "outputs": [],
   "source": [
    "import sys\n",
    "import cv2\n",
    "\n",
    "\n",
    "cap = cv2.VideoCapture(0)\n",
    "\n",
    "if not cap.isOpened():\n",
    "    print(\"Camera open failed!\")\n",
    "    sys.exit()\n",
    "\n",
    "w = round(cap.get(cv2.CAP_PROP_FRAME_WIDTH))\n",
    "h = round(cap.get(cv2.CAP_PROP_FRAME_HEIGHT))\n",
    "fps = cap.get(cv2.CAP_PROP_FPS)\n",
    "\n",
    "fourcc = cv2.VideoWriter_fourcc(*'DIVX') # *'DIVX' == 'D', 'I', 'V', 'X'\n",
    "delay = round(1000 / fps)\n",
    "\n",
    "out = cv2.VideoWriter('output.avi', fourcc, fps, (w, h))\n",
    "\n",
    "if not out.isOpened():\n",
    "    print('File open failed!')\n",
    "    cap.release()\n",
    "    sys.exit()\n",
    "\n",
    "while True:\n",
    "    ret, frame = cap.read()\n",
    "\n",
    "    if not ret:\n",
    "        break\n",
    "\n",
    "    inversed = ~frame\n",
    "\n",
    "    out.write(inversed)\n",
    "\n",
    "    cv2.imshow('frame', frame)\n",
    "    cv2.imshow('inversed', inversed)\n",
    "\n",
    "    if cv2.waitKey(delay) == 27:\n",
    "        break\n",
    "\n",
    "cap.release()\n",
    "out.release()\n",
    "cv2.destroyAllWindows()"
   ]
  },
  {
   "cell_type": "code",
   "execution_count": 2,
   "metadata": {},
   "outputs": [
    {
     "name": "stdout",
     "output_type": "stream",
     "text": [
      "EVENT_LBUTTONDOWN: 143, 118\n",
      "EVENT_LBUTTONUP: 144, 118\n",
      "EVENT_LBUTTONDOWN: 374, 169\n",
      "EVENT_LBUTTONUP: 997, 51\n"
     ]
    }
   ],
   "source": [
    "import sys\n",
    "import numpy as np\n",
    "import cv2\n",
    "\n",
    "\n",
    "oldx = oldy = -1\n",
    "\n",
    "def on_mouse(event, x, y, flags, param):\n",
    "    global oldx, oldy\n",
    "\n",
    "    if event == cv2.EVENT_LBUTTONDOWN:\n",
    "        oldx, oldy = x, y\n",
    "        print('EVENT_LBUTTONDOWN: %d, %d' % (x, y))\n",
    "\n",
    "    elif event == cv2.EVENT_LBUTTONUP:\n",
    "        print('EVENT_LBUTTONUP: %d, %d' % (x, y))\n",
    "\n",
    "    elif event == cv2.EVENT_MOUSEMOVE:\n",
    "        if flags & cv2.EVENT_FLAG_LBUTTON:  # lbutton을 누르면 EVENT_FLAG_LBUTTON=1\n",
    "            cv2.line(img, (oldx, oldy), (x, y), (0, 0, 255), 4, cv2.LINE_AA)\n",
    "            cv2.imshow('image', img)\n",
    "            oldx, oldy = x, y\n",
    "\n",
    "\n",
    "img = np.ones((480, 640, 3), dtype=np.uint8) * 255\n",
    "\n",
    "cv2.namedWindow('image')\n",
    "cv2.setMouseCallback('image', on_mouse, img) # 발생하는 마우스 이벤트를 반영\n",
    "\n",
    "cv2.imshow('image', img)\n",
    "cv2.waitKey()\n",
    "\n",
    "cv2.destroyAllWindows()\n"
   ]
  },
  {
   "cell_type": "code",
   "execution_count": null,
   "metadata": {},
   "outputs": [],
   "source": []
  },
  {
   "cell_type": "code",
   "execution_count": null,
   "metadata": {},
   "outputs": [],
   "source": []
  }
 ],
 "metadata": {
  "kernelspec": {
   "display_name": "Python 3",
   "language": "python",
   "name": "python3"
  },
  "language_info": {
   "codemirror_mode": {
    "name": "ipython",
    "version": 3
   },
   "file_extension": ".py",
   "mimetype": "text/x-python",
   "name": "python",
   "nbconvert_exporter": "python",
   "pygments_lexer": "ipython3",
   "version": "3.7.3"
  }
 },
 "nbformat": 4,
 "nbformat_minor": 5
}
